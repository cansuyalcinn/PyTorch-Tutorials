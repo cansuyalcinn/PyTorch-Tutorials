{
  "nbformat": 4,
  "nbformat_minor": 0,
  "metadata": {
    "colab": {
      "name": "Tutorial1.ipynb",
      "provenance": [],
      "collapsed_sections": [],
      "authorship_tag": "ABX9TyO/QX+My2Av+RdgI+WEwhTf"
    },
    "kernelspec": {
      "name": "python3",
      "display_name": "Python 3"
    },
    "language_info": {
      "name": "python"
    }
  },
  "cells": [
    {
      "cell_type": "code",
      "execution_count": null,
      "metadata": {
        "id": "q4AQdapf5yXE"
      },
      "outputs": [],
      "source": [
        "import torch"
      ]
    },
    {
      "cell_type": "code",
      "source": [
        "# Tensor is a multidimensional array.\n",
        "x=torch.Tensor([5,3])\n",
        "y=torch.Tensor([2,1])\n",
        "\n",
        "print(x*y)"
      ],
      "metadata": {
        "colab": {
          "base_uri": "https://localhost:8080/"
        },
        "id": "I_zfoF-j7mol",
        "outputId": "d3f99e8b-6f59-4dbc-8317-68218d260535"
      },
      "execution_count": null,
      "outputs": [
        {
          "output_type": "stream",
          "name": "stdout",
          "text": [
            "tensor([10.,  3.])\n"
          ]
        }
      ]
    },
    {
      "cell_type": "code",
      "source": [
        "x=torch.zeros([2,5])"
      ],
      "metadata": {
        "id": "n9eOaTEW7-vV"
      },
      "execution_count": null,
      "outputs": []
    },
    {
      "cell_type": "code",
      "source": [
        "print(x)"
      ],
      "metadata": {
        "colab": {
          "base_uri": "https://localhost:8080/"
        },
        "id": "IJ8hkcVs82FV",
        "outputId": "42822dae-36ce-4bdd-cf44-960416fb447a"
      },
      "execution_count": null,
      "outputs": [
        {
          "output_type": "stream",
          "name": "stdout",
          "text": [
            "tensor([[0., 0., 0., 0., 0.],\n",
            "        [0., 0., 0., 0., 0.]])\n"
          ]
        }
      ]
    },
    {
      "cell_type": "code",
      "source": [
        "x.shape"
      ],
      "metadata": {
        "colab": {
          "base_uri": "https://localhost:8080/"
        },
        "id": "eXSJ_-B182x1",
        "outputId": "70c38708-23b4-4c8d-ec53-40145b7089ae"
      },
      "execution_count": null,
      "outputs": [
        {
          "output_type": "execute_result",
          "data": {
            "text/plain": [
              "torch.Size([2, 5])"
            ]
          },
          "metadata": {},
          "execution_count": 5
        }
      ]
    },
    {
      "cell_type": "code",
      "source": [
        "y=torch.rand([2,5])"
      ],
      "metadata": {
        "id": "bNrEG-0b83-M"
      },
      "execution_count": null,
      "outputs": []
    },
    {
      "cell_type": "code",
      "source": [
        "print(y)"
      ],
      "metadata": {
        "colab": {
          "base_uri": "https://localhost:8080/"
        },
        "id": "U2hY7vUX8_Vw",
        "outputId": "65689fd2-19c3-4c92-99b2-9c13d9accaea"
      },
      "execution_count": null,
      "outputs": [
        {
          "output_type": "stream",
          "name": "stdout",
          "text": [
            "tensor([[0.3646, 0.6519, 0.8712, 0.6901, 0.7489],\n",
            "        [0.8642, 0.3932, 0.2033, 0.9477, 0.5583]])\n"
          ]
        }
      ]
    },
    {
      "cell_type": "code",
      "source": [
        "# Reshape -- Example: Flatten operation\n",
        "y=y.view([1,10])\n",
        "print(y)"
      ],
      "metadata": {
        "colab": {
          "base_uri": "https://localhost:8080/"
        },
        "id": "yjE5CaaE9Apf",
        "outputId": "8ff71f96-5144-43e5-8eb5-88905ee0a276"
      },
      "execution_count": null,
      "outputs": [
        {
          "output_type": "stream",
          "name": "stdout",
          "text": [
            "tensor([[0.3646, 0.6519, 0.8712, 0.6901, 0.7489, 0.8642, 0.3932, 0.2033, 0.9477,\n",
            "         0.5583]])\n"
          ]
        }
      ]
    }
  ]
}