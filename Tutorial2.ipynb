{
  "nbformat": 4,
  "nbformat_minor": 0,
  "metadata": {
    "colab": {
      "name": "Tutorial2.ipynb",
      "provenance": [],
      "collapsed_sections": [],
      "authorship_tag": "ABX9TyPJxL9WB5Q2F0DQhSzvle9+"
    },
    "kernelspec": {
      "name": "python3",
      "display_name": "Python 3"
    },
    "language_info": {
      "name": "python"
    }
  },
  "cells": [
    {
      "cell_type": "code",
      "execution_count": null,
      "metadata": {
        "id": "nx4W7lFG9ufB"
      },
      "outputs": [],
      "source": [
        "import torch\n",
        "import torchvision\n",
        "from torchvision import transforms, datasets"
      ]
    },
    {
      "cell_type": "code",
      "source": [
        "train=datasets.MNIST(\"\", train=True, download=True, transform=transforms.Compose([transforms.ToTensor()]))\n",
        "test= datasets.MNIST(\"\", train=False, download=True, transform=transforms.Compose([transforms.ToTensor()]))\n"
      ],
      "metadata": {
        "id": "z1UFHDJu-VCY"
      },
      "execution_count": null,
      "outputs": []
    },
    {
      "cell_type": "code",
      "source": [
        "trainset=torch.utils.data.DataLoader(train, batch_size=10, shuffle=True)\n",
        "testset=torch.utils.data.DataLoader(test, batch_size=10, shuffle=True)"
      ],
      "metadata": {
        "id": "PpYsIub5_kvg"
      },
      "execution_count": null,
      "outputs": []
    },
    {
      "cell_type": "code",
      "source": [
        "for data in trainset:\n",
        "  print(data)\n",
        "  break"
      ],
      "metadata": {
        "colab": {
          "base_uri": "https://localhost:8080/"
        },
        "id": "NyIiTVmUBWk4",
        "outputId": "433bf95a-1e0b-42b3-e0b4-ac57d920e799"
      },
      "execution_count": null,
      "outputs": [
        {
          "output_type": "stream",
          "name": "stdout",
          "text": [
            "[tensor([[[[0., 0., 0.,  ..., 0., 0., 0.],\n",
            "          [0., 0., 0.,  ..., 0., 0., 0.],\n",
            "          [0., 0., 0.,  ..., 0., 0., 0.],\n",
            "          ...,\n",
            "          [0., 0., 0.,  ..., 0., 0., 0.],\n",
            "          [0., 0., 0.,  ..., 0., 0., 0.],\n",
            "          [0., 0., 0.,  ..., 0., 0., 0.]]],\n",
            "\n",
            "\n",
            "        [[[0., 0., 0.,  ..., 0., 0., 0.],\n",
            "          [0., 0., 0.,  ..., 0., 0., 0.],\n",
            "          [0., 0., 0.,  ..., 0., 0., 0.],\n",
            "          ...,\n",
            "          [0., 0., 0.,  ..., 0., 0., 0.],\n",
            "          [0., 0., 0.,  ..., 0., 0., 0.],\n",
            "          [0., 0., 0.,  ..., 0., 0., 0.]]],\n",
            "\n",
            "\n",
            "        [[[0., 0., 0.,  ..., 0., 0., 0.],\n",
            "          [0., 0., 0.,  ..., 0., 0., 0.],\n",
            "          [0., 0., 0.,  ..., 0., 0., 0.],\n",
            "          ...,\n",
            "          [0., 0., 0.,  ..., 0., 0., 0.],\n",
            "          [0., 0., 0.,  ..., 0., 0., 0.],\n",
            "          [0., 0., 0.,  ..., 0., 0., 0.]]],\n",
            "\n",
            "\n",
            "        ...,\n",
            "\n",
            "\n",
            "        [[[0., 0., 0.,  ..., 0., 0., 0.],\n",
            "          [0., 0., 0.,  ..., 0., 0., 0.],\n",
            "          [0., 0., 0.,  ..., 0., 0., 0.],\n",
            "          ...,\n",
            "          [0., 0., 0.,  ..., 0., 0., 0.],\n",
            "          [0., 0., 0.,  ..., 0., 0., 0.],\n",
            "          [0., 0., 0.,  ..., 0., 0., 0.]]],\n",
            "\n",
            "\n",
            "        [[[0., 0., 0.,  ..., 0., 0., 0.],\n",
            "          [0., 0., 0.,  ..., 0., 0., 0.],\n",
            "          [0., 0., 0.,  ..., 0., 0., 0.],\n",
            "          ...,\n",
            "          [0., 0., 0.,  ..., 0., 0., 0.],\n",
            "          [0., 0., 0.,  ..., 0., 0., 0.],\n",
            "          [0., 0., 0.,  ..., 0., 0., 0.]]],\n",
            "\n",
            "\n",
            "        [[[0., 0., 0.,  ..., 0., 0., 0.],\n",
            "          [0., 0., 0.,  ..., 0., 0., 0.],\n",
            "          [0., 0., 0.,  ..., 0., 0., 0.],\n",
            "          ...,\n",
            "          [0., 0., 0.,  ..., 0., 0., 0.],\n",
            "          [0., 0., 0.,  ..., 0., 0., 0.],\n",
            "          [0., 0., 0.,  ..., 0., 0., 0.]]]]), tensor([9, 8, 1, 7, 9, 2, 6, 1, 7, 4])]\n"
          ]
        }
      ]
    },
    {
      "cell_type": "code",
      "source": [
        "x,y = data[0][0], data[1][0]\n",
        "print(y)"
      ],
      "metadata": {
        "colab": {
          "base_uri": "https://localhost:8080/"
        },
        "id": "n2HkJWrXBblz",
        "outputId": "51360751-4a18-419c-89f2-f2f38f8c7907"
      },
      "execution_count": null,
      "outputs": [
        {
          "output_type": "stream",
          "name": "stdout",
          "text": [
            "tensor(9)\n"
          ]
        }
      ]
    },
    {
      "cell_type": "code",
      "source": [
        "print(data[0][0].shape)"
      ],
      "metadata": {
        "colab": {
          "base_uri": "https://localhost:8080/"
        },
        "id": "TCpYIqKFCW3S",
        "outputId": "91ea2706-136c-4531-c5bc-e715b19ea5f0"
      },
      "execution_count": null,
      "outputs": [
        {
          "output_type": "stream",
          "name": "stdout",
          "text": [
            "torch.Size([1, 28, 28])\n"
          ]
        }
      ]
    },
    {
      "cell_type": "code",
      "source": [
        "import matplotlib.pyplot as plt\n",
        "plt.imshow(data[0][0].view(28,28)) # Reshape the image as 28x28 image\n",
        "plt.show()"
      ],
      "metadata": {
        "colab": {
          "base_uri": "https://localhost:8080/",
          "height": 265
        },
        "id": "ulk2c7JxCHcu",
        "outputId": "3a8eba8d-6a0a-488a-f783-878947d1ac0a"
      },
      "execution_count": null,
      "outputs": [
        {
          "output_type": "display_data",
          "data": {
            "image/png": "[encoded data removed]",
            "text/plain": [
              "<Figure size 432x288 with 1 Axes>"
            ]
          },
          "metadata": {
            "needs_background": "light"
          }
        }
      ]
    },
    {
      "cell_type": "code",
      "source": [
        "# Balancing the dataset\n",
        "total=0\n",
        "counter_dict={ 0:0, 1:0, 2:0, 3:0, 4:0, 5:0, 6:0, 7:0, 8:0, 9:0}\n",
        "\n",
        "for data in trainset:\n",
        "  Xs, Ys = data # Data has 2 set of tensors\n",
        "  for y in Ys:\n",
        "    counter_dict[int(y)]+=1\n",
        "    total+=1\n",
        "print(counter_dict)\n",
        "    "
      ],
      "metadata": {
        "colab": {
          "base_uri": "https://localhost:8080/"
        },
        "id": "mVBJXd5qC2mq",
        "outputId": "91d486d1-978e-4c58-ec59-36c0aa79d5e0"
      },
      "execution_count": null,
      "outputs": [
        {
          "output_type": "stream",
          "name": "stdout",
          "text": [
            "{0: 5923, 1: 6742, 2: 5958, 3: 6131, 4: 5842, 5: 5421, 6: 5918, 7: 6265, 8: 5851, 9: 5949}\n"
          ]
        }
      ]
    },
    {
      "cell_type": "code",
      "source": [
        "for i in counter_dict:\n",
        "  print(f\"{i}: {counter_dict[i]/total*100}\")"
      ],
      "metadata": {
        "colab": {
          "base_uri": "https://localhost:8080/"
        },
        "id": "sSAIfKKGEjgo",
        "outputId": "905bc8cc-a972-405a-92d5-38942324dd8e"
      },
      "execution_count": null,
      "outputs": [
        {
          "output_type": "stream",
          "name": "stdout",
          "text": [
            "0: 9.871666666666666\n",
            "1: 11.236666666666666\n",
            "2: 9.93\n",
            "3: 10.218333333333334\n",
            "4: 9.736666666666666\n",
            "5: 9.035\n",
            "6: 9.863333333333333\n",
            "7: 10.441666666666666\n",
            "8: 9.751666666666667\n",
            "9: 9.915000000000001\n"
          ]
        }
      ]
    },
    {
      "cell_type": "markdown",
      "source": [
        "## Building the Neural Network"
      ],
      "metadata": {
        "id": "wcmFJogdFEu3"
      }
    },
    {
      "cell_type": "code",
      "source": [
        "import torch.nn as nn\n",
        "import torch.nn.functional as F"
      ],
      "metadata": {
        "id": "PTxXWp_ZIaAk"
      },
      "execution_count": null,
      "outputs": []
    },
    {
      "cell_type": "code",
      "source": [
        "class Net(nn.Module):\n",
        "  def __init__(self):\n",
        "   super().__init__()\n",
        "   # Inhereits from nn.Module (parent class) and runs nn.Module (parent class)'s init method \n",
        "\n",
        "   # Defining the Layers\n",
        "\n",
        "   self.fc1=nn.Linear(28*28, 64) # Fully Connected Layer 1 \n",
        "   # Input: 784=28*28 , Output: Target is 3 layers of 64 neurons for hidden layers.\n",
        "   self.fc2=nn.Linear(64, 64) # Fully Connected Layer 2 \n",
        "   self.fc3=nn.Linear(64, 64) # Fully Connected Layer 3 \n",
        "   self.fc4=nn.Linear(64, 10) # Fully Connected Layer 4 / 10: Number of classes (0,1,2..9)\n",
        "\n",
        "   # Defining the Path to take through the layers (Feed Forward)\n",
        "\n",
        "  def forward(self, x):\n",
        "    x=F.relu(self.fc1(x)) # x passes through all layers and running the activation function for that layer.\n",
        "    x=F.relu(self.fc2(x))\n",
        "    x=F.relu(self.fc3(x))\n",
        "    x=self.fc4(x) # Just passing the data to the last layer\n",
        "    return F.log_softmax(x, dim=1) # Apply softmax\n",
        "\n",
        "net=Net()\n",
        "print(net)"
      ],
      "metadata": {
        "colab": {
          "base_uri": "https://localhost:8080/"
        },
        "id": "v7OVNm-5Izab",
        "outputId": "4cec5dae-af40-41dc-ae5e-07603eeec87b"
      },
      "execution_count": null,
      "outputs": [
        {
          "output_type": "stream",
          "name": "stdout",
          "text": [
            "Net(\n",
            "  (fc1): Linear(in_features=784, out_features=64, bias=True)\n",
            "  (fc2): Linear(in_features=64, out_features=64, bias=True)\n",
            "  (fc3): Linear(in_features=64, out_features=64, bias=True)\n",
            "  (fc4): Linear(in_features=64, out_features=10, bias=True)\n",
            ")\n"
          ]
        }
      ]
    },
    {
      "cell_type": "code",
      "source": [
        "X=torch.rand((28,28))\n",
        "X=X.view(-1, 28*28) # Flatten operation and  "
      ],
      "metadata": {
        "id": "nXaaaAKtMmgI"
      },
      "execution_count": null,
      "outputs": []
    },
    {
      "cell_type": "code",
      "source": [
        "output=net(X)"
      ],
      "metadata": {
        "id": "faybXRSgQuIF"
      },
      "execution_count": null,
      "outputs": []
    },
    {
      "cell_type": "code",
      "source": [
        "output"
      ],
      "metadata": {
        "id": "D9eY8fgYQ1mZ",
        "colab": {
          "base_uri": "https://localhost:8080/"
        },
        "outputId": "e36a6918-b705-4fb5-f083-93740f184ea4"
      },
      "execution_count": null,
      "outputs": [
        {
          "output_type": "execute_result",
          "data": {
            "text/plain": [
              "tensor([[-2.4083, -2.3686, -2.2206, -2.2796, -2.2086, -2.3292, -2.4292, -2.3390,\n",
              "         -2.1817, -2.2933]], grad_fn=<LogSoftmaxBackward0>)"
            ]
          },
          "metadata": {},
          "execution_count": 37
        }
      ]
    },
    {
      "cell_type": "markdown",
      "source": [
        "Loss : Measure of how wrong is the model\n",
        "\n",
        "Optimizer : Optimize and adjust the possible weights it can adjust in such a way so it lowers the loss."
      ],
      "metadata": {
        "id": "VOstKSWCaT4T"
      }
    },
    {
      "cell_type": "code",
      "source": [
        "import torch.optim as optim\n",
        "optimizer=optim.Adam(net.parameters(), lr=0.001)\n",
        "# .parameters() : corresponds to every paramater that can be adjustable. \n",
        "# Decaying learning rate : starts big then get smaller. \n",
        "\n",
        "EPOCHS=3\n",
        "\n",
        "for epoch in range(EPOCHS):\n",
        "  for data in trainset:\n",
        "    # data is a batch of features and labels\n",
        "    X, y= data\n",
        "    net.zero_grad() # making gradient zero\n",
        "\n",
        "    # Passing data through the network\n",
        "    output=net(X.view(-1, 28*28))\n",
        "\n",
        "    # Loss calculation\n",
        "    loss= F.nll_loss(output,y)\n",
        "\n",
        "    # Backpropogation\n",
        "    loss.backward()\n",
        "\n",
        "    # Adjusting the weights\n",
        "    optimizer.step()\n",
        "  \n",
        "  print(loss)"
      ],
      "metadata": {
        "colab": {
          "base_uri": "https://localhost:8080/"
        },
        "id": "dc6C1XVAayrS",
        "outputId": "1012175b-e141-44cf-988c-da9d5efc76d4"
      },
      "execution_count": null,
      "outputs": [
        {
          "output_type": "stream",
          "name": "stdout",
          "text": [
            "tensor(0.3696, grad_fn=<NllLossBackward0>)\n",
            "tensor(0.0089, grad_fn=<NllLossBackward0>)\n",
            "tensor(0.0747, grad_fn=<NllLossBackward0>)\n"
          ]
        }
      ]
    },
    {
      "cell_type": "code",
      "source": [
        "correct= 0\n",
        "total=0\n",
        "\n",
        "# We are trying to evaluate in our data and we don't want to calculate the gradients.\n",
        "with torch.no_grad():\n",
        "  for data in trainset:\n",
        "    X,y = data\n",
        "    output=net(X.view(-1,28*28))\n",
        "\n",
        "    # Our targets are scaler values: 1,4,5.. and Neural network output is in Argmax.\n",
        "    # So we do the comparison like this in the below.\n",
        "\n",
        "    for idx, i in enumerate(output):\n",
        "      if torch.argmax(i)==y[idx]:\n",
        "        correct=+1\n",
        "      total=+1\n",
        "\n",
        "print(\"Accuracy: \", round(correct/total,3))"
      ],
      "metadata": {
        "colab": {
          "base_uri": "https://localhost:8080/"
        },
        "id": "wr1H4yn8bFD9",
        "outputId": "de61ee1f-8656-446d-87b1-dbb4e980afe7"
      },
      "execution_count": null,
      "outputs": [
        {
          "output_type": "stream",
          "name": "stdout",
          "text": [
            "Accuracy:  1.0\n"
          ]
        }
      ]
    },
    {
      "cell_type": "code",
      "source": [
        "import matplotlib.pyplot as plt\n",
        "plt.imshow(X[1].view(28,28))\n",
        "plt.show()"
      ],
      "metadata": {
        "colab": {
          "base_uri": "https://localhost:8080/",
          "height": 265
        },
        "id": "7rx3m-r1iW-M",
        "outputId": "6a1b959d-8d7e-400f-e9e6-eb3d21488b06"
      },
      "execution_count": null,
      "outputs": [
        {
          "output_type": "display_data",
          "data": {
            "image/png": "[encoded data removed]",
            "text/plain": [
              "<Figure size 432x288 with 1 Axes>"
            ]
          },
          "metadata": {
            "needs_background": "light"
          }
        }
      ]
    },
    {
      "cell_type": "code",
      "source": [
        "print(torch.argmax(net(X[1].view(-1,28*28))[0]))"
      ],
      "metadata": {
        "colab": {
          "base_uri": "https://localhost:8080/"
        },
        "id": "f6_cjyrBjfUQ",
        "outputId": "3d961452-7090-4020-ac97-654c9e6e9d60"
      },
      "execution_count": null,
      "outputs": [
        {
          "output_type": "stream",
          "name": "stdout",
          "text": [
            "tensor(0)\n"
          ]
        }
      ]
    }
  ]
}